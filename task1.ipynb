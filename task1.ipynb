{
 "cells": [
  {
   "cell_type": "code",
   "execution_count": 1,
   "id": "8b56cbf8-6ba7-4f66-a341-6ac7a4fc235f",
   "metadata": {},
   "outputs": [],
   "source": [
    "#sb.set_theme(style=\"dark\", palette=\"magma\")\n"
   ]
  },
  {
   "cell_type": "markdown",
   "id": "637cc871-43ad-4b0b-9e0a-c2f3270b8353",
   "metadata": {},
   "source": [
    "# 📊 Forbes Billionaire Analysis"
   ]
  },
  {
   "cell_type": "markdown",
   "id": "309f1604-4c81-4078-943c-5636a1c1d84b",
   "metadata": {},
   "source": [
    "## 1: Import Libraries"
   ]
  },
  {
   "cell_type": "markdown",
   "id": "e9923cc6-fd5c-4446-999d-8351cbe279eb",
   "metadata": {},
   "source": [
    "###   Importing essential libraries:\n",
    "###   numpy & pandas for data handling\n",
    "###  seaborn & matplotlib for visualization\n"
   ]
  },
  {
   "cell_type": "code",
   "execution_count": 2,
   "id": "d9d34b0b-3d64-4b1a-9567-2b97dc0e52ba",
   "metadata": {},
   "outputs": [],
   "source": [
    "import numpy as np \n",
    "import pandas as pd\n",
    "import seaborn as sb\n",
    "import matplotlib.pyplot as plt"
   ]
  },
  {
   "cell_type": "markdown",
   "id": "943a6784-d51d-4910-824f-23aab0438037",
   "metadata": {},
   "source": [
    "## 2 : Load & Preview Dataset"
   ]
  },
  {
   "cell_type": "code",
   "execution_count": 3,
   "id": "c9c620c1-b8dd-453f-a8f7-664eac27e599",
   "metadata": {},
   "outputs": [
    {
     "data": {
      "text/html": [
       "<div>\n",
       "<style scoped>\n",
       "    .dataframe tbody tr th:only-of-type {\n",
       "        vertical-align: middle;\n",
       "    }\n",
       "\n",
       "    .dataframe tbody tr th {\n",
       "        vertical-align: top;\n",
       "    }\n",
       "\n",
       "    .dataframe thead th {\n",
       "        text-align: right;\n",
       "    }\n",
       "</style>\n",
       "<table border=\"1\" class=\"dataframe\">\n",
       "  <thead>\n",
       "    <tr style=\"text-align: right;\">\n",
       "      <th></th>\n",
       "      <th>Unnamed: 0</th>\n",
       "      <th>rank</th>\n",
       "      <th>name</th>\n",
       "      <th>networth</th>\n",
       "      <th>age</th>\n",
       "      <th>country</th>\n",
       "      <th>source</th>\n",
       "      <th>industry</th>\n",
       "    </tr>\n",
       "  </thead>\n",
       "  <tbody>\n",
       "    <tr>\n",
       "      <th>0</th>\n",
       "      <td>0</td>\n",
       "      <td>1</td>\n",
       "      <td>Elon Musk</td>\n",
       "      <td>$219 B</td>\n",
       "      <td>50</td>\n",
       "      <td>United States</td>\n",
       "      <td>Tesla, SpaceX</td>\n",
       "      <td>Automotive</td>\n",
       "    </tr>\n",
       "    <tr>\n",
       "      <th>1</th>\n",
       "      <td>1</td>\n",
       "      <td>2</td>\n",
       "      <td>Jeff Bezos</td>\n",
       "      <td>$171 B</td>\n",
       "      <td>58</td>\n",
       "      <td>United States</td>\n",
       "      <td>Amazon</td>\n",
       "      <td>Technology</td>\n",
       "    </tr>\n",
       "    <tr>\n",
       "      <th>2</th>\n",
       "      <td>2</td>\n",
       "      <td>3</td>\n",
       "      <td>Bernard Arnault &amp; family</td>\n",
       "      <td>$158 B</td>\n",
       "      <td>73</td>\n",
       "      <td>France</td>\n",
       "      <td>LVMH</td>\n",
       "      <td>Fashion &amp; Retail</td>\n",
       "    </tr>\n",
       "    <tr>\n",
       "      <th>3</th>\n",
       "      <td>3</td>\n",
       "      <td>4</td>\n",
       "      <td>Bill Gates</td>\n",
       "      <td>$129 B</td>\n",
       "      <td>66</td>\n",
       "      <td>United States</td>\n",
       "      <td>Microsoft</td>\n",
       "      <td>Technology</td>\n",
       "    </tr>\n",
       "    <tr>\n",
       "      <th>4</th>\n",
       "      <td>4</td>\n",
       "      <td>5</td>\n",
       "      <td>Warren Buffett</td>\n",
       "      <td>$118 B</td>\n",
       "      <td>91</td>\n",
       "      <td>United States</td>\n",
       "      <td>Berkshire Hathaway</td>\n",
       "      <td>Finance &amp; Investments</td>\n",
       "    </tr>\n",
       "    <tr>\n",
       "      <th>...</th>\n",
       "      <td>...</td>\n",
       "      <td>...</td>\n",
       "      <td>...</td>\n",
       "      <td>...</td>\n",
       "      <td>...</td>\n",
       "      <td>...</td>\n",
       "      <td>...</td>\n",
       "      <td>...</td>\n",
       "    </tr>\n",
       "    <tr>\n",
       "      <th>2595</th>\n",
       "      <td>2595</td>\n",
       "      <td>2578</td>\n",
       "      <td>Jorge Gallardo Ballart</td>\n",
       "      <td>$1 B</td>\n",
       "      <td>80</td>\n",
       "      <td>Spain</td>\n",
       "      <td>pharmaceuticals</td>\n",
       "      <td>Healthcare</td>\n",
       "    </tr>\n",
       "    <tr>\n",
       "      <th>2596</th>\n",
       "      <td>2596</td>\n",
       "      <td>2578</td>\n",
       "      <td>Nari Genomal</td>\n",
       "      <td>$1 B</td>\n",
       "      <td>82</td>\n",
       "      <td>Philippines</td>\n",
       "      <td>apparel</td>\n",
       "      <td>Fashion &amp; Retail</td>\n",
       "    </tr>\n",
       "    <tr>\n",
       "      <th>2597</th>\n",
       "      <td>2597</td>\n",
       "      <td>2578</td>\n",
       "      <td>Ramesh Genomal</td>\n",
       "      <td>$1 B</td>\n",
       "      <td>71</td>\n",
       "      <td>Philippines</td>\n",
       "      <td>apparel</td>\n",
       "      <td>Fashion &amp; Retail</td>\n",
       "    </tr>\n",
       "    <tr>\n",
       "      <th>2598</th>\n",
       "      <td>2598</td>\n",
       "      <td>2578</td>\n",
       "      <td>Sunder Genomal</td>\n",
       "      <td>$1 B</td>\n",
       "      <td>68</td>\n",
       "      <td>Philippines</td>\n",
       "      <td>garments</td>\n",
       "      <td>Fashion &amp; Retail</td>\n",
       "    </tr>\n",
       "    <tr>\n",
       "      <th>2599</th>\n",
       "      <td>2599</td>\n",
       "      <td>2578</td>\n",
       "      <td>Horst-Otto Gerberding</td>\n",
       "      <td>$1 B</td>\n",
       "      <td>69</td>\n",
       "      <td>Germany</td>\n",
       "      <td>flavors and fragrances</td>\n",
       "      <td>Food &amp; Beverage</td>\n",
       "    </tr>\n",
       "  </tbody>\n",
       "</table>\n",
       "<p>2600 rows × 8 columns</p>\n",
       "</div>"
      ],
      "text/plain": [
       "      Unnamed: 0  rank                       name networth  age  \\\n",
       "0              0     1                 Elon Musk    $219 B   50   \n",
       "1              1     2                Jeff Bezos    $171 B   58   \n",
       "2              2     3  Bernard Arnault & family    $158 B   73   \n",
       "3              3     4                Bill Gates    $129 B   66   \n",
       "4              4     5            Warren Buffett    $118 B   91   \n",
       "...          ...   ...                        ...      ...  ...   \n",
       "2595        2595  2578    Jorge Gallardo Ballart      $1 B   80   \n",
       "2596        2596  2578              Nari Genomal      $1 B   82   \n",
       "2597        2597  2578            Ramesh Genomal      $1 B   71   \n",
       "2598        2598  2578            Sunder Genomal      $1 B   68   \n",
       "2599        2599  2578     Horst-Otto Gerberding      $1 B   69   \n",
       "\n",
       "            country                  source                industry  \n",
       "0     United States           Tesla, SpaceX             Automotive   \n",
       "1     United States                  Amazon             Technology   \n",
       "2            France                    LVMH       Fashion & Retail   \n",
       "3     United States               Microsoft             Technology   \n",
       "4     United States      Berkshire Hathaway  Finance & Investments   \n",
       "...             ...                     ...                     ...  \n",
       "2595          Spain         pharmaceuticals             Healthcare   \n",
       "2596    Philippines                 apparel       Fashion & Retail   \n",
       "2597    Philippines                 apparel       Fashion & Retail   \n",
       "2598    Philippines                garments       Fashion & Retail   \n",
       "2599        Germany  flavors and fragrances        Food & Beverage   \n",
       "\n",
       "[2600 rows x 8 columns]"
      ]
     },
     "execution_count": 3,
     "metadata": {},
     "output_type": "execute_result"
    }
   ],
   "source": [
    "df = pd.read_csv(\"../DataSets/2022_forbes_billionaires.csv\")\n",
    "df"
   ]
  },
  {
   "cell_type": "markdown",
   "id": "e3fecf8b-6164-4b07-a69c-84b5593f1797",
   "metadata": {},
   "source": [
    " Shows the first few rows to understand the structure.\n"
   ]
  },
  {
   "cell_type": "markdown",
   "id": "99d7a330-b5a0-47e4-b22d-c82e5856d405",
   "metadata": {},
   "source": [
    "#  Data Preparation:"
   ]
  },
  {
   "cell_type": "code",
   "execution_count": 4,
   "id": "2bee4475-b825-457a-9274-7b362a7c2043",
   "metadata": {},
   "outputs": [],
   "source": [
    "df.drop(columns=[\"Unnamed: 0\"], inplace=True)"
   ]
  },
  {
   "cell_type": "markdown",
   "id": "58e9514a-16b3-4892-8d24-f592101885cb",
   "metadata": {},
   "source": [
    "## 3: Check Missing Values\n",
    "###  How can we handle missing values in the dataset?"
   ]
  },
  {
   "cell_type": "code",
   "execution_count": 5,
   "id": "efdf14c2-c0c6-419d-9cad-185dccbd7a02",
   "metadata": {},
   "outputs": [
    {
     "data": {
      "text/plain": [
       "rank        0\n",
       "name        0\n",
       "networth    0\n",
       "age         0\n",
       "country     0\n",
       "source      0\n",
       "industry    0\n",
       "dtype: int64"
      ]
     },
     "execution_count": 5,
     "metadata": {},
     "output_type": "execute_result"
    }
   ],
   "source": [
    "df.isnull().sum()"
   ]
  },
  {
   "cell_type": "markdown",
   "id": "913d9659-49b8-4e65-a889-7c1624b052fe",
   "metadata": {},
   "source": [
    "### ✅ Checking for missing values in all columns.\n",
    "### Result: No missing data \n"
   ]
  },
  {
   "cell_type": "markdown",
   "id": "02901459-83f6-4285-aa5c-b7342769dcc8",
   "metadata": {},
   "source": [
    "## 4: Clean 'networth' Column"
   ]
  },
  {
   "cell_type": "code",
   "execution_count": 6,
   "id": "87a85206-58a5-4943-b929-8ff5f91a5c88",
   "metadata": {},
   "outputs": [],
   "source": [
    "df.networth = df.networth.replace(\"[$ B]\",\"\",regex =True).astype('float64')\n"
   ]
  },
  {
   "cell_type": "code",
   "execution_count": 7,
   "id": "cffae25e-01bd-433c-a3b4-5b083a267d20",
   "metadata": {},
   "outputs": [
    {
     "data": {
      "text/html": [
       "<div>\n",
       "<style scoped>\n",
       "    .dataframe tbody tr th:only-of-type {\n",
       "        vertical-align: middle;\n",
       "    }\n",
       "\n",
       "    .dataframe tbody tr th {\n",
       "        vertical-align: top;\n",
       "    }\n",
       "\n",
       "    .dataframe thead th {\n",
       "        text-align: right;\n",
       "    }\n",
       "</style>\n",
       "<table border=\"1\" class=\"dataframe\">\n",
       "  <thead>\n",
       "    <tr style=\"text-align: right;\">\n",
       "      <th></th>\n",
       "      <th>rank</th>\n",
       "      <th>name</th>\n",
       "      <th>networth</th>\n",
       "      <th>age</th>\n",
       "      <th>country</th>\n",
       "      <th>source</th>\n",
       "      <th>industry</th>\n",
       "    </tr>\n",
       "  </thead>\n",
       "  <tbody>\n",
       "    <tr>\n",
       "      <th>0</th>\n",
       "      <td>1</td>\n",
       "      <td>Elon Musk</td>\n",
       "      <td>219.0</td>\n",
       "      <td>50</td>\n",
       "      <td>United States</td>\n",
       "      <td>Tesla, SpaceX</td>\n",
       "      <td>Automotive</td>\n",
       "    </tr>\n",
       "    <tr>\n",
       "      <th>1</th>\n",
       "      <td>2</td>\n",
       "      <td>Jeff Bezos</td>\n",
       "      <td>171.0</td>\n",
       "      <td>58</td>\n",
       "      <td>United States</td>\n",
       "      <td>Amazon</td>\n",
       "      <td>Technology</td>\n",
       "    </tr>\n",
       "    <tr>\n",
       "      <th>2</th>\n",
       "      <td>3</td>\n",
       "      <td>Bernard Arnault &amp; family</td>\n",
       "      <td>158.0</td>\n",
       "      <td>73</td>\n",
       "      <td>France</td>\n",
       "      <td>LVMH</td>\n",
       "      <td>Fashion &amp; Retail</td>\n",
       "    </tr>\n",
       "    <tr>\n",
       "      <th>3</th>\n",
       "      <td>4</td>\n",
       "      <td>Bill Gates</td>\n",
       "      <td>129.0</td>\n",
       "      <td>66</td>\n",
       "      <td>United States</td>\n",
       "      <td>Microsoft</td>\n",
       "      <td>Technology</td>\n",
       "    </tr>\n",
       "    <tr>\n",
       "      <th>4</th>\n",
       "      <td>5</td>\n",
       "      <td>Warren Buffett</td>\n",
       "      <td>118.0</td>\n",
       "      <td>91</td>\n",
       "      <td>United States</td>\n",
       "      <td>Berkshire Hathaway</td>\n",
       "      <td>Finance &amp; Investments</td>\n",
       "    </tr>\n",
       "    <tr>\n",
       "      <th>...</th>\n",
       "      <td>...</td>\n",
       "      <td>...</td>\n",
       "      <td>...</td>\n",
       "      <td>...</td>\n",
       "      <td>...</td>\n",
       "      <td>...</td>\n",
       "      <td>...</td>\n",
       "    </tr>\n",
       "    <tr>\n",
       "      <th>2595</th>\n",
       "      <td>2578</td>\n",
       "      <td>Jorge Gallardo Ballart</td>\n",
       "      <td>1.0</td>\n",
       "      <td>80</td>\n",
       "      <td>Spain</td>\n",
       "      <td>pharmaceuticals</td>\n",
       "      <td>Healthcare</td>\n",
       "    </tr>\n",
       "    <tr>\n",
       "      <th>2596</th>\n",
       "      <td>2578</td>\n",
       "      <td>Nari Genomal</td>\n",
       "      <td>1.0</td>\n",
       "      <td>82</td>\n",
       "      <td>Philippines</td>\n",
       "      <td>apparel</td>\n",
       "      <td>Fashion &amp; Retail</td>\n",
       "    </tr>\n",
       "    <tr>\n",
       "      <th>2597</th>\n",
       "      <td>2578</td>\n",
       "      <td>Ramesh Genomal</td>\n",
       "      <td>1.0</td>\n",
       "      <td>71</td>\n",
       "      <td>Philippines</td>\n",
       "      <td>apparel</td>\n",
       "      <td>Fashion &amp; Retail</td>\n",
       "    </tr>\n",
       "    <tr>\n",
       "      <th>2598</th>\n",
       "      <td>2578</td>\n",
       "      <td>Sunder Genomal</td>\n",
       "      <td>1.0</td>\n",
       "      <td>68</td>\n",
       "      <td>Philippines</td>\n",
       "      <td>garments</td>\n",
       "      <td>Fashion &amp; Retail</td>\n",
       "    </tr>\n",
       "    <tr>\n",
       "      <th>2599</th>\n",
       "      <td>2578</td>\n",
       "      <td>Horst-Otto Gerberding</td>\n",
       "      <td>1.0</td>\n",
       "      <td>69</td>\n",
       "      <td>Germany</td>\n",
       "      <td>flavors and fragrances</td>\n",
       "      <td>Food &amp; Beverage</td>\n",
       "    </tr>\n",
       "  </tbody>\n",
       "</table>\n",
       "<p>2600 rows × 7 columns</p>\n",
       "</div>"
      ],
      "text/plain": [
       "      rank                       name  networth  age        country  \\\n",
       "0        1                 Elon Musk      219.0   50  United States   \n",
       "1        2                Jeff Bezos      171.0   58  United States   \n",
       "2        3  Bernard Arnault & family      158.0   73         France   \n",
       "3        4                Bill Gates      129.0   66  United States   \n",
       "4        5            Warren Buffett      118.0   91  United States   \n",
       "...    ...                        ...       ...  ...            ...   \n",
       "2595  2578    Jorge Gallardo Ballart        1.0   80          Spain   \n",
       "2596  2578              Nari Genomal        1.0   82    Philippines   \n",
       "2597  2578            Ramesh Genomal        1.0   71    Philippines   \n",
       "2598  2578            Sunder Genomal        1.0   68    Philippines   \n",
       "2599  2578     Horst-Otto Gerberding        1.0   69        Germany   \n",
       "\n",
       "                      source                industry  \n",
       "0              Tesla, SpaceX             Automotive   \n",
       "1                     Amazon             Technology   \n",
       "2                       LVMH       Fashion & Retail   \n",
       "3                  Microsoft             Technology   \n",
       "4         Berkshire Hathaway  Finance & Investments   \n",
       "...                      ...                     ...  \n",
       "2595         pharmaceuticals             Healthcare   \n",
       "2596                 apparel       Fashion & Retail   \n",
       "2597                 apparel       Fashion & Retail   \n",
       "2598                garments       Fashion & Retail   \n",
       "2599  flavors and fragrances        Food & Beverage   \n",
       "\n",
       "[2600 rows x 7 columns]"
      ]
     },
     "execution_count": 7,
     "metadata": {},
     "output_type": "execute_result"
    }
   ],
   "source": [
    "df"
   ]
  },
  {
   "cell_type": "markdown",
   "id": "0baaaf18-3044-46a1-9e2d-8fafb328da48",
   "metadata": {},
   "source": [
    "### # ✅ Cleaned the 'networth' column by removing \"$ B\"\n",
    "### # and converting it to float for numerical analysis.\n"
   ]
  },
  {
   "cell_type": "markdown",
   "id": "6bb9fa61-2f8c-456d-81be-5a5f900bf304",
   "metadata": {},
   "source": [
    "#  Exploratory Data Analysis (EDA):"
   ]
  },
  {
   "cell_type": "markdown",
   "id": "437f5ec6-74e3-4a19-89c5-28d88c5a3deb",
   "metadata": {},
   "source": [
    "### 5: Check Data Types"
   ]
  },
  {
   "cell_type": "code",
   "execution_count": 8,
   "id": "1202a8b8-e1ae-4c08-b5d8-8d91addc8784",
   "metadata": {},
   "outputs": [
    {
     "data": {
      "text/plain": [
       "rank          int64\n",
       "name         object\n",
       "networth    float64\n",
       "age           int64\n",
       "country      object\n",
       "source       object\n",
       "industry     object\n",
       "dtype: object"
      ]
     },
     "execution_count": 8,
     "metadata": {},
     "output_type": "execute_result"
    }
   ],
   "source": [
    "df.dtypes"
   ]
  },
  {
   "cell_type": "markdown",
   "id": "5275a0b7-b40d-4bbb-9f23-095e6d493464",
   "metadata": {},
   "source": [
    "### ✅ Verifying that all columns have correct data types\n"
   ]
  },
  {
   "cell_type": "markdown",
   "id": "fb447998-d025-414a-97b8-97f37017ae23",
   "metadata": {},
   "source": [
    "## 🧮6: Summary Statistics"
   ]
  },
  {
   "cell_type": "markdown",
   "id": "491dcea7-c22c-40ac-ae45-be6ece794218",
   "metadata": {},
   "source": [
    "\n",
    "\n",
    "## What are the key statistics for billionaire net worth, and how is wealth distributed?"
   ]
  },
  {
   "cell_type": "code",
   "execution_count": 9,
   "id": "5e793e4d-924b-41cd-acf3-3283cfc5c255",
   "metadata": {},
   "outputs": [
    {
     "data": {
      "text/html": [
       "<div>\n",
       "<style scoped>\n",
       "    .dataframe tbody tr th:only-of-type {\n",
       "        vertical-align: middle;\n",
       "    }\n",
       "\n",
       "    .dataframe tbody tr th {\n",
       "        vertical-align: top;\n",
       "    }\n",
       "\n",
       "    .dataframe thead th {\n",
       "        text-align: right;\n",
       "    }\n",
       "</style>\n",
       "<table border=\"1\" class=\"dataframe\">\n",
       "  <thead>\n",
       "    <tr style=\"text-align: right;\">\n",
       "      <th></th>\n",
       "      <th>rank</th>\n",
       "      <th>networth</th>\n",
       "      <th>age</th>\n",
       "    </tr>\n",
       "  </thead>\n",
       "  <tbody>\n",
       "    <tr>\n",
       "      <th>count</th>\n",
       "      <td>2600.000000</td>\n",
       "      <td>2600.000000</td>\n",
       "      <td>2600.000000</td>\n",
       "    </tr>\n",
       "    <tr>\n",
       "      <th>mean</th>\n",
       "      <td>1269.570769</td>\n",
       "      <td>4.860750</td>\n",
       "      <td>64.271923</td>\n",
       "    </tr>\n",
       "    <tr>\n",
       "      <th>std</th>\n",
       "      <td>728.146364</td>\n",
       "      <td>10.659671</td>\n",
       "      <td>13.220607</td>\n",
       "    </tr>\n",
       "    <tr>\n",
       "      <th>min</th>\n",
       "      <td>1.000000</td>\n",
       "      <td>1.000000</td>\n",
       "      <td>19.000000</td>\n",
       "    </tr>\n",
       "    <tr>\n",
       "      <th>25%</th>\n",
       "      <td>637.000000</td>\n",
       "      <td>1.500000</td>\n",
       "      <td>55.000000</td>\n",
       "    </tr>\n",
       "    <tr>\n",
       "      <th>50%</th>\n",
       "      <td>1292.000000</td>\n",
       "      <td>2.400000</td>\n",
       "      <td>64.000000</td>\n",
       "    </tr>\n",
       "    <tr>\n",
       "      <th>75%</th>\n",
       "      <td>1929.000000</td>\n",
       "      <td>4.500000</td>\n",
       "      <td>74.000000</td>\n",
       "    </tr>\n",
       "    <tr>\n",
       "      <th>max</th>\n",
       "      <td>2578.000000</td>\n",
       "      <td>219.000000</td>\n",
       "      <td>100.000000</td>\n",
       "    </tr>\n",
       "  </tbody>\n",
       "</table>\n",
       "</div>"
      ],
      "text/plain": [
       "              rank     networth          age\n",
       "count  2600.000000  2600.000000  2600.000000\n",
       "mean   1269.570769     4.860750    64.271923\n",
       "std     728.146364    10.659671    13.220607\n",
       "min       1.000000     1.000000    19.000000\n",
       "25%     637.000000     1.500000    55.000000\n",
       "50%    1292.000000     2.400000    64.000000\n",
       "75%    1929.000000     4.500000    74.000000\n",
       "max    2578.000000   219.000000   100.000000"
      ]
     },
     "execution_count": 9,
     "metadata": {},
     "output_type": "execute_result"
    }
   ],
   "source": [
    "df.describe()"
   ]
  },
  {
   "cell_type": "markdown",
   "id": "ccea5c95-e204-49a4-a7f0-b564a7e2c049",
   "metadata": {},
   "source": [
    "### # ✅ Displays key statistics like mean, min, max, std for numerical columns."
   ]
  },
  {
   "cell_type": "markdown",
   "id": "0135ae86-91ee-4f8f-b48e-01a5b7f9e091",
   "metadata": {},
   "source": [
    "## 7: Net Worth Distribution - Histogram & Boxplot"
   ]
  },
  {
   "cell_type": "markdown",
   "id": "2acde4c3-a6c6-4fa0-a3e7-464a21812e8e",
   "metadata": {},
   "source": [
    "### Visualize how billionaire net worth is distributed using histograms and box plots."
   ]
  },
  {
   "cell_type": "markdown",
   "id": "820c9f89-c48f-42f7-8f69-f938c406a253",
   "metadata": {},
   "source": [
    " #### 📈 1. Histograms "
   ]
  },
  {
   "cell_type": "code",
   "execution_count": 10,
   "id": "64474a39-871b-444f-9021-b745d51932a1",
   "metadata": {},
   "outputs": [
    {
     "data": {
      "text/plain": [
       "<function matplotlib.pyplot.show(close=None, block=None)>"
      ]
     },
     "execution_count": 10,
     "metadata": {},
     "output_type": "execute_result"
    },
    {
     "data": {
      "image/png": "[encoded data removed]",
      "text/plain": [
       "<Figure size 2000x900 with 1 Axes>"
      ]
     },
     "metadata": {},
     "output_type": "display_data"
    }
   ],
   "source": [
    "plt.figure(figsize=(20,9))\n",
    "sb.histplot(df.networth,bins= 30 )\n",
    "plt.show"
   ]
  },
  {
   "cell_type": "markdown",
   "id": "5f119766-dcf4-4c81-a684-ca0dba0f204f",
   "metadata": {},
   "source": [
    "maximum billionaire net worth is distributed between 0 to 10.\n",
    "minimum billionaire net worth is distributed between 10 to 40."
   ]
  },
  {
   "cell_type": "markdown",
   "id": "2d59e8b9-861f-4f2f-a3d1-f9caf8719ddc",
   "metadata": {},
   "source": [
    "### 📈 2. Box plot"
   ]
  },
  {
   "cell_type": "code",
   "execution_count": 11,
   "id": "b40b1da1-54a8-4fbb-b5c1-ddbaa3252425",
   "metadata": {},
   "outputs": [
    {
     "data": {
      "image/png": "[encoded data removed]",
      "text/plain": [
       "<Figure size 640x480 with 1 Axes>"
      ]
     },
     "metadata": {},
     "output_type": "display_data"
    }
   ],
   "source": [
    "sb.boxplot(df.networth, )\n",
    "plt.show()"
   ]
  },
  {
   "cell_type": "markdown",
   "id": "a47fdfe4-ed0a-4564-89b5-bef8a6d2f85b",
   "metadata": {},
   "source": [
    "### # ✅ Histogram shows distribution of billionaire net worth.\n",
    "### # It shows that their is more density between 0 to 50.\n",
    "###  Further are above 50 networth as shown in boxplot.\n"
   ]
  },
  {
   "cell_type": "markdown",
   "id": "3080bf50-df75-40fc-87c8-a75532cf9909",
   "metadata": {},
   "source": [
    "##  🏆8: Top 10 Richest Billionaires\n",
    "### Identify and display the top 10 billionaires based on net worth using nlargest."
   ]
  },
  {
   "cell_type": "code",
   "execution_count": 12,
   "id": "e1d956f6-b1d3-43e5-9582-96053993d506",
   "metadata": {
    "scrolled": true
   },
   "outputs": [
    {
     "data": {
      "text/html": [
       "<div>\n",
       "<style scoped>\n",
       "    .dataframe tbody tr th:only-of-type {\n",
       "        vertical-align: middle;\n",
       "    }\n",
       "\n",
       "    .dataframe tbody tr th {\n",
       "        vertical-align: top;\n",
       "    }\n",
       "\n",
       "    .dataframe thead th {\n",
       "        text-align: right;\n",
       "    }\n",
       "</style>\n",
       "<table border=\"1\" class=\"dataframe\">\n",
       "  <thead>\n",
       "    <tr style=\"text-align: right;\">\n",
       "      <th></th>\n",
       "      <th>rank</th>\n",
       "      <th>name</th>\n",
       "      <th>networth</th>\n",
       "      <th>age</th>\n",
       "      <th>country</th>\n",
       "      <th>source</th>\n",
       "      <th>industry</th>\n",
       "    </tr>\n",
       "  </thead>\n",
       "  <tbody>\n",
       "    <tr>\n",
       "      <th>0</th>\n",
       "      <td>1</td>\n",
       "      <td>Elon Musk</td>\n",
       "      <td>219.0</td>\n",
       "      <td>50</td>\n",
       "      <td>United States</td>\n",
       "      <td>Tesla, SpaceX</td>\n",
       "      <td>Automotive</td>\n",
       "    </tr>\n",
       "    <tr>\n",
       "      <th>1</th>\n",
       "      <td>2</td>\n",
       "      <td>Jeff Bezos</td>\n",
       "      <td>171.0</td>\n",
       "      <td>58</td>\n",
       "      <td>United States</td>\n",
       "      <td>Amazon</td>\n",
       "      <td>Technology</td>\n",
       "    </tr>\n",
       "    <tr>\n",
       "      <th>2</th>\n",
       "      <td>3</td>\n",
       "      <td>Bernard Arnault &amp; family</td>\n",
       "      <td>158.0</td>\n",
       "      <td>73</td>\n",
       "      <td>France</td>\n",
       "      <td>LVMH</td>\n",
       "      <td>Fashion &amp; Retail</td>\n",
       "    </tr>\n",
       "    <tr>\n",
       "      <th>3</th>\n",
       "      <td>4</td>\n",
       "      <td>Bill Gates</td>\n",
       "      <td>129.0</td>\n",
       "      <td>66</td>\n",
       "      <td>United States</td>\n",
       "      <td>Microsoft</td>\n",
       "      <td>Technology</td>\n",
       "    </tr>\n",
       "    <tr>\n",
       "      <th>4</th>\n",
       "      <td>5</td>\n",
       "      <td>Warren Buffett</td>\n",
       "      <td>118.0</td>\n",
       "      <td>91</td>\n",
       "      <td>United States</td>\n",
       "      <td>Berkshire Hathaway</td>\n",
       "      <td>Finance &amp; Investments</td>\n",
       "    </tr>\n",
       "    <tr>\n",
       "      <th>5</th>\n",
       "      <td>6</td>\n",
       "      <td>Larry Page</td>\n",
       "      <td>111.0</td>\n",
       "      <td>49</td>\n",
       "      <td>United States</td>\n",
       "      <td>Google</td>\n",
       "      <td>Technology</td>\n",
       "    </tr>\n",
       "    <tr>\n",
       "      <th>6</th>\n",
       "      <td>7</td>\n",
       "      <td>Sergey Brin</td>\n",
       "      <td>107.0</td>\n",
       "      <td>48</td>\n",
       "      <td>United States</td>\n",
       "      <td>Google</td>\n",
       "      <td>Technology</td>\n",
       "    </tr>\n",
       "    <tr>\n",
       "      <th>7</th>\n",
       "      <td>8</td>\n",
       "      <td>Larry Ellison</td>\n",
       "      <td>106.0</td>\n",
       "      <td>77</td>\n",
       "      <td>United States</td>\n",
       "      <td>software</td>\n",
       "      <td>Technology</td>\n",
       "    </tr>\n",
       "    <tr>\n",
       "      <th>8</th>\n",
       "      <td>9</td>\n",
       "      <td>Steve Ballmer</td>\n",
       "      <td>91.4</td>\n",
       "      <td>66</td>\n",
       "      <td>United States</td>\n",
       "      <td>Microsoft</td>\n",
       "      <td>Technology</td>\n",
       "    </tr>\n",
       "    <tr>\n",
       "      <th>9</th>\n",
       "      <td>10</td>\n",
       "      <td>Mukesh Ambani</td>\n",
       "      <td>90.7</td>\n",
       "      <td>64</td>\n",
       "      <td>India</td>\n",
       "      <td>diversified</td>\n",
       "      <td>Diversified</td>\n",
       "    </tr>\n",
       "  </tbody>\n",
       "</table>\n",
       "</div>"
      ],
      "text/plain": [
       "   rank                       name  networth  age        country  \\\n",
       "0     1                 Elon Musk      219.0   50  United States   \n",
       "1     2                Jeff Bezos      171.0   58  United States   \n",
       "2     3  Bernard Arnault & family      158.0   73         France   \n",
       "3     4                Bill Gates      129.0   66  United States   \n",
       "4     5            Warren Buffett      118.0   91  United States   \n",
       "5     6                Larry Page      111.0   49  United States   \n",
       "6     7               Sergey Brin      107.0   48  United States   \n",
       "7     8             Larry Ellison      106.0   77  United States   \n",
       "8     9             Steve Ballmer       91.4   66  United States   \n",
       "9    10             Mukesh Ambani       90.7   64          India   \n",
       "\n",
       "               source                industry  \n",
       "0       Tesla, SpaceX             Automotive   \n",
       "1              Amazon             Technology   \n",
       "2                LVMH       Fashion & Retail   \n",
       "3           Microsoft             Technology   \n",
       "4  Berkshire Hathaway  Finance & Investments   \n",
       "5              Google             Technology   \n",
       "6              Google             Technology   \n",
       "7            software             Technology   \n",
       "8           Microsoft             Technology   \n",
       "9         diversified            Diversified   "
      ]
     },
     "execution_count": 12,
     "metadata": {},
     "output_type": "execute_result"
    }
   ],
   "source": [
    "df.nlargest(10, 'networth')\n"
   ]
  },
  {
   "cell_type": "markdown",
   "id": "c3b7ca03-5e35-4970-8d46-82ed8a52cf69",
   "metadata": {},
   "source": [
    "### # ✅ Displays the top 10 billionaires based on net worth.\n",
    "### # Useful for highlighting key players like Elon Musk & Jeff Bezos.\n"
   ]
  },
  {
   "cell_type": "markdown",
   "id": "2f455d04-f129-4278-9bee-f428af3f061a",
   "metadata": {},
   "source": [
    "##  9: Count Billionaires by Country"
   ]
  },
  {
   "cell_type": "markdown",
   "id": "2b4b413c-34c7-4ac4-b28b-b366bd194d8c",
   "metadata": {},
   "source": [
    "# 🌎 Geographic Analysis:\n",
    "### What is the global distribution of billionaires across different continents and regions?"
   ]
  },
  {
   "cell_type": "code",
   "execution_count": 13,
   "id": "c3b4f9bd-61bd-424e-ae43-9d0595041651",
   "metadata": {},
   "outputs": [
    {
     "data": {
      "text/plain": [
       "country\n",
       "United States    719\n",
       "China            515\n",
       "India            161\n",
       "Germany          130\n",
       "Russia            81\n",
       "Hong Kong         67\n",
       "Canada            64\n",
       "Brazil            60\n",
       "Italy             52\n",
       "Taiwan            51\n",
       "Name: count, dtype: int64"
      ]
     },
     "execution_count": 13,
     "metadata": {},
     "output_type": "execute_result"
    }
   ],
   "source": [
    "top_countries = df['country'].value_counts().head(10)\n",
    "top_countries\n",
    "#sb.barplot(x=top_countries.values, y=top_countries.index, palette='viridis')\n",
    "#plt.title(\"Top 10 Countries by Billionaire Count\")"
   ]
  },
  {
   "cell_type": "markdown",
   "id": "b99ca367-26cc-4b6d-8492-036985f1a1ee",
   "metadata": {},
   "source": [
    "###   Lists top 10 countries with most billionaires.\n",
    "###  U.S. leads, followed by China and India.\n"
   ]
  },
  {
   "cell_type": "markdown",
   "id": "78c67db0-2f70-4e83-a214-c133b900152e",
   "metadata": {},
   "source": [
    "## 💰10: Visualize Net Worth by Country\n",
    "### Which countries have the highest billionaire wealth concentration?"
   ]
  },
  {
   "cell_type": "code",
   "execution_count": 14,
   "id": "dd2b3594-4f4f-4d24-98ba-8b5189d55da2",
   "metadata": {},
   "outputs": [
    {
     "data": {
      "image/png": "[encoded data removed]",
      "text/plain": [
       "<Figure size 2000x900 with 1 Axes>"
      ]
     },
     "metadata": {},
     "output_type": "display_data"
    }
   ],
   "source": [
    "plt.figure(figsize=(20,9))\n",
    "sb.barplot(x=df['country'], y=df['networth'],hue = df['country'],palette = 'magma' )\n",
    "plt.xticks(rotation=90)\n",
    "plt.show()\n"
   ]
  },
  {
   "cell_type": "markdown",
   "id": "755922f4-3045-43ee-b7da-8c158658d80e",
   "metadata": {},
   "source": [
    "### # ✅ Visualizes total net worth contribution by country.\n",
    "\n"
   ]
  },
  {
   "cell_type": "markdown",
   "id": "f9f01a66-c3f6-4b81-8928-39118b834fa0",
   "metadata": {},
   "source": [
    "# 11: Top 10 Industries with Most Billionaires\n",
    "##  Which industries produce the highest number of billionaires?\n"
   ]
  },
  {
   "cell_type": "code",
   "execution_count": 15,
   "id": "aff05ae9-9094-4311-9644-cea959e0d14e",
   "metadata": {},
   "outputs": [
    {
     "data": {
      "text/plain": [
       "industry\n",
       "Finance & Investments     386\n",
       "Technology                329\n",
       "Manufacturing             322\n",
       "Fashion & Retail          246\n",
       "Healthcare                212\n",
       "Food & Beverage           201\n",
       "Real Estate               189\n",
       "Diversified               178\n",
       "Media & Entertainment      95\n",
       "Energy                     93\n",
       "Name: count, dtype: int64"
      ]
     },
     "execution_count": 15,
     "metadata": {},
     "output_type": "execute_result"
    }
   ],
   "source": [
    "df['industry'].value_counts().nlargest(10)\n"
   ]
  },
  {
   "cell_type": "markdown",
   "id": "87e2f0da-64fb-411c-98ac-f4d036a64483",
   "metadata": {},
   "source": [
    "### #✅ Lists industries that produce the most billionaires.\n",
    "### # Finance, Technology, and Manufacturing are leading.\n"
   ]
  },
  {
   "cell_type": "markdown",
   "id": "f26f969f-30e6-4336-9947-80b96fcb0926",
   "metadata": {},
   "source": [
    "##  12: Average Net Worth by Industry\n",
    "###  What is the average billionaire net worth in each industry?"
   ]
  },
  {
   "cell_type": "code",
   "execution_count": 16,
   "id": "45b02b51-9b56-491e-a79d-06b115f04f55",
   "metadata": {},
   "outputs": [
    {
     "data": {
      "text/plain": [
       "industry\n",
       "Automotive                     8.443478\n",
       "Construction & Engineering     2.811628\n",
       "Diversified                    5.278090\n",
       "Energy                         4.250538\n",
       "Fashion & Retail               6.557724\n",
       "Finance & Investments          4.493005\n",
       "Food & Beverage                4.643532\n",
       "Gambling & Casinos             4.678261\n",
       "Healthcare                     3.343868\n",
       "Logistics                      5.605714\n",
       "Manufacturing                  3.353416\n",
       "Media & Entertainment          5.195789\n",
       "Metals & Mining                5.816418\n",
       "Real Estate                    3.628571\n",
       "Service                        3.649020\n",
       "Sports                         3.753846\n",
       "Technology                     6.590881\n",
       "Telecom                        5.860000\n",
       "Name: networth, dtype: float64"
      ]
     },
     "execution_count": 16,
     "metadata": {},
     "output_type": "execute_result"
    }
   ],
   "source": [
    "df.groupby('industry')['networth'].mean()\n"
   ]
  },
  {
   "cell_type": "markdown",
   "id": "41691b0c-f600-4cf1-9278-72069b413523",
   "metadata": {},
   "source": [
    "### # ✅ Calculates average net worth for each industry.\n",
    "### # Automotive and Technology have the highest averages.\n"
   ]
  },
  {
   "cell_type": "markdown",
   "id": "7a83c4a9-367d-42bb-8776-f12cf2dd485d",
   "metadata": {},
   "source": [
    "# 13: Age Statistics\n",
    "##   What is the average and median age of billionaires?"
   ]
  },
  {
   "cell_type": "code",
   "execution_count": 17,
   "id": "fe446d2e-b654-4f29-b23e-d867eba2139b",
   "metadata": {},
   "outputs": [
    {
     "data": {
      "text/plain": [
       "(64.27192307692307, 64.0)"
      ]
     },
     "execution_count": 17,
     "metadata": {},
     "output_type": "execute_result"
    }
   ],
   "source": [
    "df['age'].mean(), df['age'].median()\n"
   ]
  },
  {
   "cell_type": "markdown",
   "id": "8393bb9c-9fcb-4c64-bf27-f1677d29ad30",
   "metadata": {},
   "source": [
    "### # ✅ Finds the average and median age of billionaires.\n",
    "### # Useful for demographic insights.\n"
   ]
  },
  {
   "cell_type": "markdown",
   "id": "77d98eb0-1cc3-4e01-bf0d-1510032b1e53",
   "metadata": {},
   "source": [
    "## 14: Youngest & Oldest Billionaires"
   ]
  },
  {
   "cell_type": "markdown",
   "id": "bfcb3dac-9f51-4acd-94c6-d5facece50fd",
   "metadata": {},
   "source": [
    "##  Who are the youngest and oldest billionaires in the dataset?\n",
    "\n",
    "### To identify the youngest  billionaires:"
   ]
  },
  {
   "cell_type": "code",
   "execution_count": 18,
   "id": "90bda2e1-bf51-430b-a8df-5bb05e5558a2",
   "metadata": {},
   "outputs": [
    {
     "data": {
      "text/html": [
       "<div>\n",
       "<style scoped>\n",
       "    .dataframe tbody tr th:only-of-type {\n",
       "        vertical-align: middle;\n",
       "    }\n",
       "\n",
       "    .dataframe tbody tr th {\n",
       "        vertical-align: top;\n",
       "    }\n",
       "\n",
       "    .dataframe thead th {\n",
       "        text-align: right;\n",
       "    }\n",
       "</style>\n",
       "<table border=\"1\" class=\"dataframe\">\n",
       "  <thead>\n",
       "    <tr style=\"text-align: right;\">\n",
       "      <th></th>\n",
       "      <th>rank</th>\n",
       "      <th>name</th>\n",
       "      <th>networth</th>\n",
       "      <th>age</th>\n",
       "      <th>country</th>\n",
       "      <th>source</th>\n",
       "      <th>industry</th>\n",
       "    </tr>\n",
       "  </thead>\n",
       "  <tbody>\n",
       "    <tr>\n",
       "      <th>1311</th>\n",
       "      <td>1292</td>\n",
       "      <td>Kevin David Lehmann</td>\n",
       "      <td>2.4</td>\n",
       "      <td>19</td>\n",
       "      <td>Germany</td>\n",
       "      <td>drugstores</td>\n",
       "      <td>Fashion &amp; Retail</td>\n",
       "    </tr>\n",
       "  </tbody>\n",
       "</table>\n",
       "</div>"
      ],
      "text/plain": [
       "      rank                  name  networth  age  country      source  \\\n",
       "1311  1292  Kevin David Lehmann        2.4   19  Germany  drugstores   \n",
       "\n",
       "               industry  \n",
       "1311  Fashion & Retail   "
      ]
     },
     "execution_count": 18,
     "metadata": {},
     "output_type": "execute_result"
    }
   ],
   "source": [
    "df.nsmallest(1, 'age')"
   ]
  },
  {
   "cell_type": "markdown",
   "id": "78288604-677a-4988-8753-9beae1a9f276",
   "metadata": {},
   "source": [
    "### To identify the  oldest billionaires:"
   ]
  },
  {
   "cell_type": "code",
   "execution_count": 19,
   "id": "77477553-696d-4d33-84a0-d16f69f1d7a8",
   "metadata": {},
   "outputs": [
    {
     "data": {
      "text/html": [
       "<div>\n",
       "<style scoped>\n",
       "    .dataframe tbody tr th:only-of-type {\n",
       "        vertical-align: middle;\n",
       "    }\n",
       "\n",
       "    .dataframe tbody tr th {\n",
       "        vertical-align: top;\n",
       "    }\n",
       "\n",
       "    .dataframe thead th {\n",
       "        text-align: right;\n",
       "    }\n",
       "</style>\n",
       "<table border=\"1\" class=\"dataframe\">\n",
       "  <thead>\n",
       "    <tr style=\"text-align: right;\">\n",
       "      <th></th>\n",
       "      <th>rank</th>\n",
       "      <th>name</th>\n",
       "      <th>networth</th>\n",
       "      <th>age</th>\n",
       "      <th>country</th>\n",
       "      <th>source</th>\n",
       "      <th>industry</th>\n",
       "    </tr>\n",
       "  </thead>\n",
       "  <tbody>\n",
       "    <tr>\n",
       "      <th>1681</th>\n",
       "      <td>1645</td>\n",
       "      <td>George Joseph</td>\n",
       "      <td>1.8</td>\n",
       "      <td>100</td>\n",
       "      <td>United States</td>\n",
       "      <td>insurance</td>\n",
       "      <td>Finance &amp; Investments</td>\n",
       "    </tr>\n",
       "  </tbody>\n",
       "</table>\n",
       "</div>"
      ],
      "text/plain": [
       "      rank            name  networth  age        country     source  \\\n",
       "1681  1645  George Joseph        1.8  100  United States  insurance   \n",
       "\n",
       "                    industry  \n",
       "1681  Finance & Investments   "
      ]
     },
     "execution_count": 19,
     "metadata": {},
     "output_type": "execute_result"
    }
   ],
   "source": [
    "df.nlargest(1, 'age')"
   ]
  },
  {
   "cell_type": "markdown",
   "id": "af3a05db-7d78-4203-a412-d024e4d71b80",
   "metadata": {},
   "source": [
    "### # ✅ Identifies the youngest and oldest billionaires in the dataset.\n",
    "### # Good for spotting exceptional cases like teenage billionaires.\n"
   ]
  },
  {
   "cell_type": "code",
   "execution_count": null,
   "id": "ca857a03-bd19-4f57-8367-e1079711c007",
   "metadata": {},
   "outputs": [],
   "source": [
    "5"
   ]
  }
 ],
 "metadata": {
  "kernelspec": {
   "display_name": "Python 3 (ipykernel)",
   "language": "python",
   "name": "python3"
  },
  "language_info": {
   "codemirror_mode": {
    "name": "ipython",
    "version": 3
   },
   "file_extension": ".py",
   "mimetype": "text/x-python",
   "name": "python",
   "nbconvert_exporter": "python",
   "pygments_lexer": "ipython3",
   "version": "3.12.7"
  }
 },
 "nbformat": 4,
 "nbformat_minor": 5
}
